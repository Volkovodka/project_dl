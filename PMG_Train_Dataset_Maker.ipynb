{
  "cells": [
    {
      "cell_type": "markdown",
      "metadata": {
        "gradient": {
          "editing": false,
          "id": "ac5a4cf0-d9d2-47b5-9633-b53f8d99a4d2",
          "kernelId": ""
        },
        "id": "SiTIpPjArIyr"
      },
      "source": [
        "# Pocket MIDI Generator Training Dataset Maker"
      ]
    },
    {
      "cell_type": "markdown",
      "metadata": {
        "gradient": {
          "editing": false,
          "id": "fa0a611c-1803-42ae-bdf6-a49b5a4e781b",
          "kernelId": ""
        },
        "id": "gOd93yV0sGd2"
      },
      "source": [
        "# Установка окружения\n",
        "\n"
      ]
    },
    {
      "cell_type": "code",
      "execution_count": null,
      "metadata": {
        "gradient": {
          "editing": false,
          "id": "a1a45a91-d909-4fd4-b67a-5e16b971d179",
          "kernelId": ""
        },
        "id": "fX12Yquyuihc"
      },
      "outputs": [],
      "source": [
        "#@title Установка всех зависимостей (запускается один раз)\n",
        "\n",
        "!git clone https://github.com/asigalov61/tegridy-tools\n",
        "!pip install tqdm"
      ]
    },
    {
      "cell_type": "code",
      "execution_count": null,
      "metadata": {
        "gradient": {
          "editing": false,
          "id": "b8207b76-9514-4c07-95db-95a4742e52c5",
          "kernelId": ""
        },
        "id": "z7n9vnKmug1J"
      },
      "outputs": [],
      "source": [
        "#@title Установка всех библиотек\n",
        "\n",
        "print('Loading needed modules. Please wait...')\n",
        "import os\n",
        "\n",
        "import math\n",
        "import statistics\n",
        "import random\n",
        "\n",
        "from tqdm import tqdm\n",
        "\n",
        "if not os.path.exists('/content/Dataset'):\n",
        "    os.makedirs('/content/Dataset')\n",
        "\n",
        "print('Loading TMIDIX module...')\n",
        "os.chdir('/content/tegridy-tools/tegridy-tools')\n",
        "\n",
        "import TMIDIX\n",
        "\n",
        "print('Done!')\n",
        "\n",
        "os.chdir('/content/')\n",
        "print('Done')"
      ]
    },
    {
      "cell_type": "markdown",
      "metadata": {
        "gradient": {
          "editing": false,
          "id": "20b8698a-0b4e-4fdb-ae49-24d063782e77",
          "kernelId": ""
        },
        "id": "ObPxlEutsQBj"
      },
      "source": [
        "# Установка датасета"
      ]
    },
    {
      "cell_type": "code",
      "source": [
        "#@title Установка LAKH MIDI Dataset\n",
        "\n",
        "%cd /content/Dataset/\n",
        "\n",
        "!wget 'http://hog.ee.columbia.edu/craffel/lmd/lmd_full.tar.gz'\n",
        "!tar -xvf 'lmd_full.tar.gz'\n",
        "!rm 'lmd_full.tar.gz'\n",
        "\n",
        "%cd /content/"
      ],
      "metadata": {
        "id": "7aItlhq9cRxZ"
      },
      "execution_count": null,
      "outputs": []
    },
    {
      "cell_type": "code",
      "execution_count": null,
      "metadata": {
        "id": "S69mWHAcn5Bg"
      },
      "outputs": [],
      "source": [
        "#@title Подключение к Google Drive\n",
        "from google.colab import drive\n",
        "drive.mount('/content/drive')"
      ]
    },
    {
      "cell_type": "markdown",
      "metadata": {
        "id": "JwrqQeie08t0"
      },
      "source": [
        "# Подготовка датасета"
      ]
    },
    {
      "cell_type": "code",
      "execution_count": null,
      "metadata": {
        "id": "DuVWtdDNcqKh"
      },
      "outputs": [],
      "source": [
        "#@title Сохранение датасета\n",
        "###########\n",
        "\n",
        "print('Loading MIDI files...')\n",
        "print('This may take a while on a large dataset in particular.')\n",
        "\n",
        "dataset_addr = \"/content/Dataset\"\n",
        "# os.chdir(dataset_addr)\n",
        "filez = list()\n",
        "for (dirpath, dirnames, filenames) in os.walk(dataset_addr):\n",
        "    filez += [os.path.join(dirpath, file) for file in filenames]\n",
        "print('=' * 70)\n",
        "\n",
        "if filez == []:\n",
        "    print('Could not find any MIDI files. Please check Dataset dir...')\n",
        "    print('=' * 70)\n",
        "\n",
        "print('Randomizing file list...')\n",
        "random.shuffle(filez)\n",
        "\n",
        "TMIDIX.Tegridy_Any_Pickle_File_Writer(filez, '/content/drive/MyDrive/filez')"
      ]
    },
    {
      "cell_type": "code",
      "execution_count": null,
      "metadata": {
        "id": "qI_adhjojrJ9"
      },
      "outputs": [],
      "source": [
        "#@title Загрузка данных с диска\n",
        "filez = TMIDIX.Tegridy_Any_Pickle_File_Reader('/content/drive/MyDrive/filez')"
      ]
    },
    {
      "cell_type": "markdown",
      "metadata": {
        "id": "FLxHvO-wlwfU"
      },
      "source": [
        "# Обработка данных"
      ]
    },
    {
      "cell_type": "code",
      "source": [
        "print('Starting up...')\n",
        "print('=' * 70)\n",
        "\n",
        "START_FILE_NUMBER = 25000\n",
        "LAST_SAVED_BATCH_COUNT = 0\n",
        "\n",
        "input_files_count = START_FILE_NUMBER\n",
        "files_count = LAST_SAVED_BATCH_COUNT\n",
        "\n",
        "melody_chords_f = []\n",
        "\n",
        "stats = [0] * 16\n",
        "\n",
        "print('Processing MIDI files. Please wait...')\n",
        "print('=' * 70)\n",
        "\n",
        "for f in tqdm(filez[START_FILE_NUMBER:]):\n",
        "    try:\n",
        "        input_files_count += 1\n",
        "        fn = os.path.basename(f)\n",
        "        file_size = os.path.getsize(f)\n",
        "\n",
        "        if file_size < 250000:\n",
        "            score = TMIDIX.midi2ms_score(open(f, 'rb').read())\n",
        "\n",
        "            events_matrix = []\n",
        "            itrack = 1\n",
        "            patches = [0] * 16\n",
        "\n",
        "            patch_map = [\n",
        "                [0,1,2,3,4,5,6,7],     # Piano\n",
        "                [24,25,26,27,28,29,30],# Guitar\n",
        "                [32,33,34,35,36,37,38,39], # Bass\n",
        "                [40,41],               # Violin\n",
        "                [42,43],               # Cello\n",
        "                [46],                  # Harp\n",
        "                [56,57,58,59,60],      # Trumpet\n",
        "                [64,65,66,67,68,69,70,71], # Sax\n",
        "                [72,73,74,75,76,77,78],# Flute\n",
        "                [-1],                  # Drums\n",
        "                [52,53],               # Choir\n",
        "                [16,17,18,19,20],      # Organ\n",
        "            ]\n",
        "\n",
        "            while itrack < len(score):\n",
        "                for event in score[itrack]:\n",
        "                    if event[0] == 'note' or event[0] == 'patch_change':\n",
        "                        events_matrix.append(event)\n",
        "                itrack += 1\n",
        "\n",
        "            events_matrix.sort(key=lambda x: x[1])\n",
        "            events_matrix1 = []\n",
        "\n",
        "            for event in events_matrix:\n",
        "                if event[0] == 'patch_change':\n",
        "                    patches[event[2]] = event[3]\n",
        "\n",
        "                if event[0] == 'note':\n",
        "                    event.extend([patches[event[3]]])\n",
        "                    once = False\n",
        "                    for p in patch_map:\n",
        "                        if event[6] in p and event[3] != 9:\n",
        "                            event[3] = patch_map.index(p)\n",
        "                            once = True\n",
        "                            break\n",
        "                    if not once and event[3] != 9:\n",
        "                        event[3] = 15\n",
        "                    event[5] = max(80, event[5])\n",
        "                    if event[3] < 12:\n",
        "                        events_matrix1.append(event)\n",
        "\n",
        "            if len(events_matrix1) > 0:\n",
        "                instruments = list(set([e[3] for e in events_matrix1 if e[3] != 9]))\n",
        "                if len(instruments) == 1:\n",
        "                    main_instrument = instruments[0]\n",
        "\n",
        "                    for e in events_matrix1:\n",
        "                        e[1] = int(e[1] / 8)\n",
        "                        e[2] = int(e[2] / 32)\n",
        "\n",
        "                    events_matrix1.sort(key=lambda x: x[4], reverse=True)\n",
        "                    events_matrix1.sort(key=lambda x: x[1])\n",
        "\n",
        "                    melody_chords = []\n",
        "                    pe = events_matrix1[0]\n",
        "\n",
        "                    for e in events_matrix1:\n",
        "                        time = max(0, min(255, e[1] - pe[1]))\n",
        "                        dur = max(1, min(127, e[2]))\n",
        "                        cha = max(0, min(11, e[3]))\n",
        "                        ptc = max(1, min(127, e[4]))\n",
        "                        vel = max(8, min(127, e[5]))\n",
        "                        velocity = round(vel / 15) - 1\n",
        "                        melody_chords.append([time, dur, cha, ptc, velocity])\n",
        "                        pe = e\n",
        "\n",
        "                    if len([y for y in melody_chords if y[2] != 9]) > 12:\n",
        "                        times = [y[0] for y in melody_chords[12:]]\n",
        "                        avg_time = sum(times) / len(times) if times else 0\n",
        "                        try:\n",
        "                            mode_dur = statistics.mode([y[1] for y in melody_chords if y[2] != 9])\n",
        "                        except:\n",
        "                            mode_dur = 1\n",
        "                        times_list = list(set(times))\n",
        "                        num_chords = len([y for y in melody_chords if y[0] != 0])\n",
        "\n",
        "                        if avg_time < 64 and mode_dur < 64 and 0 in times_list and 600 < num_chords < 256 * 50:\n",
        "\n",
        "                            melody_chords_f.extend([\n",
        "                                3087,\n",
        "                                3074 if 9 in [y[2] for y in melody_chords] else 3073,\n",
        "                                3075 + main_instrument,\n",
        "                                2816\n",
        "                            ])\n",
        "                            if melody_chords[0][0] == 0:\n",
        "                                melody_chords_f.append(0)\n",
        "\n",
        "                            chords_count = 0\n",
        "                            for m in melody_chords:\n",
        "                                time = m[0]\n",
        "                                dur_vel = (m[1] * 8) + m[4]\n",
        "                                cha_ptc = (m[2] * 128) + m[3]\n",
        "\n",
        "                                if (((num_chords // 50) * 50) - chords_count == 50) and time != 0:\n",
        "                                    melody_chords_f.append(3072)\n",
        "                                if chords_count % 50 == 0 and chords_count != 0 and time != 0:\n",
        "                                    melody_chords_f.append(2816 + min(255, (chords_count // 50)))\n",
        "\n",
        "                                if time != 0:\n",
        "                                    melody_chords_f.extend([time, dur_vel + 256, cha_ptc + 1280])\n",
        "                                    chords_count += 1\n",
        "                                else:\n",
        "                                    melody_chords_f.extend([dur_vel + 256, cha_ptc + 1280])\n",
        "\n",
        "                                stats[m[2]] += 1\n",
        "\n",
        "                            files_count += 1\n",
        "\n",
        "                            if files_count % 5000 == 0:\n",
        "                                print('SAVING !!!')\n",
        "                                count = str(files_count)\n",
        "                                TMIDIX.Tegridy_Any_Pickle_File_Writer(melody_chords_f, f'/content/drive/MyDrive/LAKH_INTs_{count}')\n",
        "                                melody_chords_f = []\n",
        "\n",
        "    except KeyboardInterrupt:\n",
        "        print('Saving current progress and quitting...')\n",
        "        break\n",
        "\n",
        "    except Exception as ex:\n",
        "        print('WARNING !!!')\n",
        "        print('Bad MIDI:', f)\n",
        "        print('Error detected:', ex)\n",
        "        continue\n",
        "\n",
        "# Final save\n",
        "print('SAVING !!!')\n",
        "count = str(files_count)\n",
        "TMIDIX.Tegridy_Any_Pickle_File_Writer(melody_chords_f, f'/content/drive/MyDrive/LAKH_INTs_{count}')\n",
        "\n",
        "print('Done!')\n",
        "print('Total good processed MIDI files:', files_count)\n",
        "print('Instruments stats:')\n",
        "instruments_names = ['Piano', 'Guitar', 'Bass', 'Violin', 'Cello', 'Harp', 'Trumpet', 'Sax', 'Flute', 'Drums', 'Choir', 'Organ']\n",
        "for i, name in enumerate(instruments_names):\n",
        "    print(f'{name}:', stats[i])\n"
      ],
      "metadata": {
        "id": "qaP65Kf254ce"
      },
      "execution_count": null,
      "outputs": []
    }
  ],
  "metadata": {
    "colab": {
      "machine_shape": "hm",
      "private_outputs": true,
      "provenance": []
    },
    "gpuClass": "standard",
    "kernelspec": {
      "display_name": "Python 3 (ipykernel)",
      "language": "python",
      "name": "python3"
    },
    "language_info": {
      "codemirror_mode": {
        "name": "ipython",
        "version": 3
      },
      "file_extension": ".py",
      "mimetype": "text/x-python",
      "name": "python",
      "nbconvert_exporter": "python",
      "pygments_lexer": "ipython3",
      "version": "3.9.7"
    }
  },
  "nbformat": 4,
  "nbformat_minor": 0
}