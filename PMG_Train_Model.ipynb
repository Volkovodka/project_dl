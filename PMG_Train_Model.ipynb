{
  "metadata": {
    "kernelspec": {
      "display_name": "Python 3",
      "language": "python",
      "name": "python3"
    },
    "language_info": {
      "name": "python",
      "version": "3.11.11",
      "mimetype": "text/x-python",
      "codemirror_mode": {
        "name": "ipython",
        "version": 3
      },
      "pygments_lexer": "ipython3",
      "nbconvert_exporter": "python",
      "file_extension": ".py"
    },
    "accelerator": "GPU",
    "colab": {
      "private_outputs": true,
      "provenance": [],
      "gpuClass": "premium"
    },
    "gpuClass": "premium",
    "kaggle": {
      "accelerator": "none",
      "dataSources": [
        {
          "sourceId": 11987976,
          "sourceType": "datasetVersion",
          "datasetId": 7539226
        },
        {
          "sourceId": 12017857,
          "sourceType": "datasetVersion",
          "datasetId": 7560954
        },
        {
          "sourceId": 12019730,
          "sourceType": "datasetVersion",
          "datasetId": 7562200
        }
      ],
      "dockerImageVersionId": 31041,
      "isInternetEnabled": true,
      "language": "python",
      "sourceType": "notebook",
      "isGpuEnabled": false
    }
  },
  "nbformat_minor": 0,
  "nbformat": 4,
  "cells": [
    {
      "cell_type": "markdown",
      "source": [
        "# Pocket Music Generator (For Kaggle)"
      ],
      "metadata": {
        "id": "VGrGd6__l5ch"
      }
    },
    {
      "cell_type": "markdown",
      "source": [
        "# Проверка GPU"
      ],
      "metadata": {
        "id": "shLrgoXdl5cj"
      }
    },
    {
      "cell_type": "code",
      "source": [
        "!nvidia-smi"
      ],
      "metadata": {
        "id": "X3rABEpKCO02",
        "trusted": true,
        "execution": {
          "iopub.status.busy": "2025-05-31T19:09:17.219738Z",
          "iopub.execute_input": "2025-05-31T19:09:17.220094Z",
          "iopub.status.idle": "2025-05-31T19:09:17.441801Z",
          "shell.execute_reply.started": "2025-05-31T19:09:17.220074Z",
          "shell.execute_reply": "2025-05-31T19:09:17.440948Z"
        }
      },
      "outputs": [],
      "execution_count": null
    },
    {
      "cell_type": "markdown",
      "source": [
        "# Установка окружения (один раз запускать)"
      ],
      "metadata": {
        "id": "0RcVC4btl5ck"
      }
    },
    {
      "cell_type": "code",
      "source": [
        "!pip install --upgrade pip\n",
        "!pip install einops\n",
        "!pip install torch-summary\n",
        "!pip install sklearn\n",
        "!pip install tqdm\n",
        "!pip install matplotlib\n",
        "!pip install torch==2.0.0 torchvision==0.15.1\n",
        "!pip install numpy<2.0 --quiet"
      ],
      "metadata": {
        "id": "Mclc_oWIHWB7"
      },
      "execution_count": null,
      "outputs": []
    },
    {
      "cell_type": "markdown",
      "source": [
        "#Установка библиотек"
      ],
      "metadata": {
        "id": "Dl0T4NehHlXu"
      }
    },
    {
      "cell_type": "code",
      "source": [
        "print('Loading modules...')\n",
        "\n",
        "!git clone https://github.com/asigalov61/tegridy-tools\n",
        "\n",
        "import sys\n",
        "sys.path.append('/kaggle/working/tegridy-tools/tegridy-tools')\n",
        "import TMIDIX\n",
        "\n",
        "sys.path.append('/kaggle/working/tegridy-tools/tegridy-tools/X-Transformer')\n",
        "from x_transformer import TransformerWrapper, Decoder, AutoregressiveWrapper\n",
        "\n",
        "import os\n",
        "import pickle\n",
        "import random\n",
        "import secrets\n",
        "import tqdm\n",
        "\n",
        "import torch\n",
        "import torch.optim as optim\n",
        "from torch.utils.data import DataLoader, Dataset\n",
        "\n",
        "torch.set_float32_matmul_precision('high')\n",
        "\n",
        "import matplotlib.pyplot as plt\n",
        "\n",
        "from torchsummary import summary\n",
        "from sklearn import metrics\n",
        "\n",
        "import sys\n",
        "\n",
        "sys.path.append('/kaggle/input/tegridy-tools-clean')\n",
        "import TMIDIX\n",
        "\n",
        "sys.path.append('/kaggle/input/tegridy-tools-clean/X-Transformer')\n",
        "from x_transformer import TransformerWrapper, Decoder, AutoregressiveWrapper\n",
        "\n",
        "if not os.path.exists('/content/INTS'):\n",
        "    os.makedirs('/content/INTS')\n",
        "\n",
        "print('Done')"
      ],
      "metadata": {
        "id": "DzCOZU_gBiQV",
        "trusted": true,
        "execution": {
          "iopub.status.busy": "2025-05-31T19:11:28.682456Z",
          "iopub.execute_input": "2025-05-31T19:11:28.682758Z",
          "iopub.status.idle": "2025-05-31T19:11:29.395933Z",
          "shell.execute_reply.started": "2025-05-31T19:11:28.682723Z",
          "shell.execute_reply": "2025-05-31T19:11:29.395277Z"
        }
      },
      "outputs": [],
      "execution_count": null
    },
    {
      "cell_type": "markdown",
      "source": [
        "# Загрузка данных для обучения"
      ],
      "metadata": {
        "id": "Sbhzy8FGl5cm"
      }
    },
    {
      "cell_type": "code",
      "source": [
        "print('Loading training data... Please wait...')\n",
        "\n",
        "# Путь к файлу внутри Kaggle\n",
        "file_path = \"/kaggle/input/weqrtwethbfvdcs/combined_file (1).pickle\"\n",
        "\n",
        "with open(file_path, \"rb\") as f:\n",
        "    data = pickle.load(f)\n",
        "    train_data = torch.Tensor(data)\n",
        "\n",
        "print('Loaded file:', file_path)\n",
        "print('train_data shape:', train_data.shape)\n",
        "print('Done!')\n"
      ],
      "metadata": {
        "id": "6Ujn-SVVChZV",
        "trusted": true,
        "execution": {
          "iopub.status.busy": "2025-05-31T19:11:33.642535Z",
          "iopub.execute_input": "2025-05-31T19:11:33.642788Z",
          "iopub.status.idle": "2025-05-31T19:11:42.757122Z",
          "shell.execute_reply.started": "2025-05-31T19:11:33.642763Z",
          "shell.execute_reply": "2025-05-31T19:11:42.756310Z"
        }
      },
      "outputs": [],
      "execution_count": null
    },
    {
      "cell_type": "markdown",
      "source": [
        "# Установка модели"
      ],
      "metadata": {
        "id": "VhZqBvqVl5cn"
      }
    },
    {
      "cell_type": "code",
      "source": [
        "SEQ_LEN = 512\n",
        "BATCH_SIZE = 64\n",
        "NUM_EPOCHS = 5\n",
        "GRADIENT_ACCUMULATE_EVERY = 1\n",
        "\n",
        "NUM_BATCHES = (len(train_data) // SEQ_LEN // BATCH_SIZE // GRADIENT_ACCUMULATE_EVERY) * NUM_EPOCHS\n",
        "\n",
        "LEARNING_RATE = 2e-4\n",
        "\n",
        "VALIDATE_EVERY  = 1000\n",
        "SAVE_EVERY = 1000\n",
        "GENERATE_EVERY  = 1000\n",
        "PRINT_STATS_EVERY = 300\n",
        "\n",
        "GENERATE_LENGTH = 32\n",
        "\n",
        "def cycle(loader):\n",
        "    while True:\n",
        "        for data in loader:\n",
        "            yield data\n",
        "\n",
        "\n",
        "model = TransformerWrapper(\n",
        "    num_tokens = 3088,\n",
        "    max_seq_len = SEQ_LEN,\n",
        "    attn_layers = Decoder(dim = 512, depth = 12, heads = 10, use_flash_attn=True))\n",
        "\n",
        "\n",
        "model = AutoregressiveWrapper(model)\n",
        "\n",
        "model = torch.nn.DataParallel(model)\n",
        "\n",
        "model.cuda()\n",
        "\n",
        "print('Done!')\n",
        "\n",
        "summary(model)\n",
        "\n",
        "class MusicDataset(Dataset):\n",
        "    def __init__(self, data, seq_len):\n",
        "        super().__init__()\n",
        "        self.data = data\n",
        "        self.seq_len = seq_len\n",
        "\n",
        "    def __getitem__(self, index):\n",
        "\n",
        "        idx = secrets.randbelow(self.data.size(0) - self.seq_len - 1)\n",
        "        full_seq = self.data[idx: idx + self.seq_len + 1].long()\n",
        "\n",
        "        return full_seq.cuda()\n",
        "\n",
        "    def __len__(self):\n",
        "        return self.data.size(0)\n",
        "\n",
        "train_dataset = MusicDataset(train_data, SEQ_LEN)\n",
        "val_dataset   = MusicDataset(train_data, SEQ_LEN)\n",
        "train_loader  = cycle(DataLoader(train_dataset, batch_size = BATCH_SIZE))\n",
        "val_loader    = cycle(DataLoader(val_dataset, batch_size = BATCH_SIZE))\n",
        "\n",
        "optim = torch.optim.Adam(model.parameters(), lr=LEARNING_RATE)"
      ],
      "metadata": {
        "id": "6MPxk8PFCtJ1",
        "trusted": true,
        "execution": {
          "iopub.status.busy": "2025-05-31T19:11:45.895793Z",
          "iopub.execute_input": "2025-05-31T19:11:45.896093Z",
          "iopub.status.idle": "2025-05-31T19:11:47.409758Z",
          "shell.execute_reply.started": "2025-05-31T19:11:45.896071Z",
          "shell.execute_reply": "2025-05-31T19:11:47.409016Z"
        }
      },
      "outputs": [],
      "execution_count": null
    },
    {
      "cell_type": "markdown",
      "source": [
        "# Обучение"
      ],
      "metadata": {
        "id": "xJPxxFiwl5cn"
      }
    },
    {
      "cell_type": "code",
      "source": [
        "# Папка для сохранения модели\n",
        "checkpoint_dir = \"/kaggle/working/model_checkpoints\"\n",
        "os.makedirs(checkpoint_dir, exist_ok=True)\n",
        "\n",
        "train_losses = []\n",
        "val_losses = []\n",
        "\n",
        "train_accs = []\n",
        "val_accs = []\n",
        "\n",
        "for i in tqdm.tqdm(range(NUM_BATCHES), mininterval=10., desc='Training'):\n",
        "    model.train()\n",
        "\n",
        "    for __ in range(GRADIENT_ACCUMULATE_EVERY):\n",
        "        loss, acc = model(next(train_loader))\n",
        "        loss.backward(torch.ones(loss.shape).cuda())\n",
        "\n",
        "    if i % PRINT_STATS_EVERY == 0:\n",
        "        print(f'Training loss: {loss.mean().item()}')\n",
        "        print(f'Training acc: {acc.mean().item()}')\n",
        "\n",
        "    train_losses.append(loss.mean().item())\n",
        "    train_accs.append(acc.mean().item())\n",
        "\n",
        "    torch.nn.utils.clip_grad_norm_(model.parameters(), 0.5)\n",
        "    optim.step()\n",
        "    optim.zero_grad()\n",
        "\n",
        "    if i % VALIDATE_EVERY == 0:\n",
        "        model.eval()\n",
        "        with torch.no_grad():\n",
        "            val_loss, val_acc = model(next(val_loader))\n",
        "\n",
        "            print(f'Validation loss: {val_loss.mean().item()}')\n",
        "            print(f'Validation acc: {val_acc.mean().item()}')\n",
        "\n",
        "            val_losses.append(val_loss.mean().item())\n",
        "            val_accs.append(val_acc.mean().item())\n",
        "\n",
        "            print('Plotting training loss graph...')\n",
        "            plt.plot(train_losses, 'b')\n",
        "            plt.title(\"Training Loss\")\n",
        "            plt.show(); plt.close()\n",
        "\n",
        "            print('Plotting training acc graph...')\n",
        "            plt.plot(train_accs, 'b')\n",
        "            plt.title(\"Training Accuracy\")\n",
        "            plt.show(); plt.close()\n",
        "\n",
        "            print('Plotting validation loss graph...')\n",
        "            plt.plot(val_losses, 'b')\n",
        "            plt.title(\"Validation Loss\")\n",
        "            plt.show(); plt.close()\n",
        "\n",
        "            print('Plotting validation acc graph...')\n",
        "            plt.plot(val_accs, 'b')\n",
        "            plt.title(\"Validation Accuracy\")\n",
        "            plt.show(); plt.close()\n",
        "\n",
        "    if i % GENERATE_EVERY == 0:\n",
        "        model.eval()\n",
        "#        inp = random.choice(val_dataset)[:-1]\n",
        "\n",
        "#        print(inp)\n",
        "\n",
        "        # DataParallel поддержка\n",
        "#        sample = model.module.generate(inp[None, ...], GENERATE_LENGTH) if hasattr(model, 'module') else model.generate(inp[None, ...], GENERATE_LENGTH)\n",
        "#        print(sample)\n",
        "\n",
        "    if i % SAVE_EVERY == 0:\n",
        "        print('Saving model progress. Please wait...')\n",
        "\n",
        "        checkpoint_name = f'model_checkpoint_{i}_steps_{round(float(train_losses[-1]), 4)}_loss_{round(float(train_accs[-1]), 4)}_acc.pth'\n",
        "        checkpoint_path = os.path.join(checkpoint_dir, checkpoint_name)\n",
        "\n",
        "        # Сохраняем state_dict\n",
        "        torch.save(model.module.state_dict() if hasattr(model, 'module') else model.state_dict(), checkpoint_path)\n"
      ],
      "metadata": {
        "trusted": true,
        "execution": {
          "iopub.status.busy": "2025-05-31T19:11:55.676412Z",
          "iopub.execute_input": "2025-05-31T19:11:55.677142Z",
          "execution_failed": "2025-06-01T00:58:55.574Z"
        },
        "id": "5v7tZgslG8y8"
      },
      "outputs": [],
      "execution_count": null
    },
    {
      "cell_type": "markdown",
      "source": [
        "# Final Save"
      ],
      "metadata": {
        "id": "wBkMH2gWl5co"
      }
    },
    {
      "cell_type": "code",
      "source": [
        "fname = '/kaggle/working/model_checkpoints/final_checkpoint'\n",
        "\n",
        "torch.save(model.module.state_dict() if hasattr(model, 'module') else model.state_dict(), fname)\n",
        "\n",
        "# Save training loss graph\n",
        "from matplotlib import pyplot as plt\n",
        "\n",
        "\n",
        "plt.plot([i for i in range(len(train_losses))] ,train_losses, 'b')\n",
        "# plt.savefig('/content/training_loss_graph.png')\n",
        "plt.close()\n",
        "print('Done!')\n",
        "\n",
        "# Save training acc graph\n",
        "\n",
        "plt.plot([i for i in range(len(train_accs))] ,train_accs, 'b')\n",
        "# plt.savefig('/content/training_acc_graph.png')\n",
        "plt.close()\n",
        "print('Done!')\n",
        "\n",
        "# Save validation loss graph\n",
        "\n",
        "plt.plot([i for i in range(len(val_losses))] ,val_losses, 'b')\n",
        "# plt.savefig('/content/validation_loss_graph.png')\n",
        "plt.close()\n",
        "print('Done!')\n",
        "\n",
        "# Save validation acc graph\n",
        "\n",
        "plt.plot([i for i in range(len(val_accs))] ,val_accs, 'b')\n",
        "# plt.savefig('/content/validation_acc_graph.png')\n",
        "plt.close()\n",
        "print('Done!')\n",
        "\n",
        "data = [train_losses, train_accs, val_losses, val_accs]\n",
        "\n",
        "TMIDIX.Tegridy_Any_Pickle_File_Writer(data, '/content/losses_accuracies')\n",
        "\n",
        "\n",
        "# Данные, которые нужно сохранить\n",
        "data = [train_losses, train_accs, val_losses, val_accs]\n",
        "\n",
        "# Путь сохранения в Kagglе\n",
        "with open('/kaggle/working/losses_accuracies.pkl', 'wb') as f:\n",
        "    pickle.dump(data, f)\n"
      ],
      "metadata": {
        "id": "4vE5Z15fCz1M",
        "trusted": true,
        "execution": {
          "iopub.status.busy": "2025-05-26T23:14:08.295427Z",
          "iopub.execute_input": "2025-05-26T23:14:08.295683Z",
          "iopub.status.idle": "2025-05-26T23:14:08.304918Z",
          "shell.execute_reply.started": "2025-05-26T23:14:08.295664Z",
          "shell.execute_reply": "2025-05-26T23:14:08.304026Z"
        }
      },
      "outputs": [],
      "execution_count": null
    }
  ]
}